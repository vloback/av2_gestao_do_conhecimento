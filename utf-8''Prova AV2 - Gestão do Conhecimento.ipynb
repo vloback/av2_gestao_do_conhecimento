{
  "cells": [
    {
      "metadata": {},
      "cell_type": "markdown",
      "source": "DISCIPLINA: Gestão do Conhecimento\t PROFESSOR(A): Alex Salgado\nPERÍODO: 7o. TURNO: noite AVALIAÇÃO:\n\nALUNO(A): VICTOR DE ANDRADE LOBACK\n\nGRAU: VISTO DO PROFESSOR:\n"
    },
    {
      "metadata": {},
      "cell_type": "markdown",
      "source": "# Questão 1 - valor (1,0)\n"
    },
    {
      "metadata": {},
      "cell_type": "markdown",
      "source": "*** Crie um repositório no Github e adicione este arquivo no mesmo\n\n\n1.1 - Você deve escolher uma base de dados aberta que seja possível treinar um modelo de aprendizagem de máquina Supervisionado de Classificação (assim como o exemplo da Iris e Cancer). A partir desta base de dados, você vai treinar o modelo, fazer previsões e calcular a acurácia do mesmo.\nObs.: Não utilizar nenhuma base de dados usada em aula ou nos trabalhos.\nAs bases de dados não poderá ser igual a do seu colega, dessa forma, preencha a planilha abaixo dizendo a sua base e seu tema. \nhttps://forms.gle/CvmN5fr4u2g5zoZRA\n\n\n** Para saber se já escolheram o mesmo que você, consulte no link abaixo.\nhttps://docs.google.com/spreadsheets/d/1E_GuH7C8vn_o-gyOeN5LavoQlByjVQb1UiVfP71OX3g/edit?usp=sharing\n"
    },
    {
      "metadata": {
        "trusted": false
      },
      "cell_type": "code",
      "source": "# Base escolhida:\n# https://www.kaggle.com/PromptCloudHQ/world-happiness-report-2019#world-happiness-report-2019.csv",
      "execution_count": null,
      "outputs": []
    },
    {
      "metadata": {},
      "cell_type": "markdown",
      "source": "1.2 - Após tratada, criar uma pasta no seu GoogleDrive e disponibilizar o link do arquivo de sua base (csv, xlsx, etc) para ser importado no seu código."
    },
    {
      "metadata": {
        "trusted": false
      },
      "cell_type": "code",
      "source": "# https://drive.google.com/drive/u/1/folders/15_bm5Nq4m_OfnYnaAbaNHHmeQ1RvR8_S",
      "execution_count": null,
      "outputs": []
    },
    {
      "metadata": {},
      "cell_type": "markdown",
      "source": "## Criar um código usando o Jupyter Notebook e responder (através de código) às seguintes questões:\n"
    },
    {
      "metadata": {},
      "cell_type": "markdown",
      "source": "# Questão 2 - valor (1,0)"
    },
    {
      "metadata": {},
      "cell_type": "markdown",
      "source": "2.1 - Importar os modulos python para machine learn e carregar o arquivo \n\n** Sugestão se for do tipo xlsx, usar o read_excel do pandas\nimport pandas as pd\ndt = pd.read_excel(\"meuarquivo.xlsx\")\n"
    },
    {
      "metadata": {
        "trusted": true
      },
      "cell_type": "code",
      "source": "import pandas as pd\nimport numpy as np",
      "execution_count": 1,
      "outputs": []
    },
    {
      "metadata": {
        "trusted": true
      },
      "cell_type": "code",
      "source": "df = pd.read_csv('~/world-happiness-report-2019.csv')",
      "execution_count": 2,
      "outputs": []
    },
    {
      "metadata": {},
      "cell_type": "markdown",
      "source": "2.2 - Exibir os primeiros registros desta tabela.\n"
    },
    {
      "metadata": {
        "trusted": true
      },
      "cell_type": "code",
      "source": "df.head()",
      "execution_count": 3,
      "outputs": [
        {
          "output_type": "execute_result",
          "execution_count": 3,
          "data": {
            "text/plain": "  Country (region)  Ladder  SD of Ladder  Positive affect  Negative affect  \\\n0          Finland       1             4             41.0             10.0   \n1          Denmark       2            13             24.0             26.0   \n2           Norway       3             8             16.0             29.0   \n3          Iceland       4             9              3.0              3.0   \n4      Netherlands       5             1             12.0             25.0   \n\n   Social support  Freedom  Corruption  Generosity  Log of GDP\\nper capita  \\\n0             2.0      5.0         4.0        47.0                    22.0   \n1             4.0      6.0         3.0        22.0                    14.0   \n2             3.0      3.0         8.0        11.0                     7.0   \n3             1.0      7.0        45.0         3.0                    15.0   \n4            15.0     19.0        12.0         7.0                    12.0   \n\n   Healthy life\\nexpectancy  \n0                      27.0  \n1                      23.0  \n2                      12.0  \n3                      13.0  \n4                      18.0  ",
            "text/html": "<div>\n<table border=\"1\" class=\"dataframe\">\n  <thead>\n    <tr style=\"text-align: right;\">\n      <th></th>\n      <th>Country (region)</th>\n      <th>Ladder</th>\n      <th>SD of Ladder</th>\n      <th>Positive affect</th>\n      <th>Negative affect</th>\n      <th>Social support</th>\n      <th>Freedom</th>\n      <th>Corruption</th>\n      <th>Generosity</th>\n      <th>Log of GDP\nper capita</th>\n      <th>Healthy life\nexpectancy</th>\n    </tr>\n  </thead>\n  <tbody>\n    <tr>\n      <th>0</th>\n      <td>Finland</td>\n      <td>1</td>\n      <td>4</td>\n      <td>41.0</td>\n      <td>10.0</td>\n      <td>2.0</td>\n      <td>5.0</td>\n      <td>4.0</td>\n      <td>47.0</td>\n      <td>22.0</td>\n      <td>27.0</td>\n    </tr>\n    <tr>\n      <th>1</th>\n      <td>Denmark</td>\n      <td>2</td>\n      <td>13</td>\n      <td>24.0</td>\n      <td>26.0</td>\n      <td>4.0</td>\n      <td>6.0</td>\n      <td>3.0</td>\n      <td>22.0</td>\n      <td>14.0</td>\n      <td>23.0</td>\n    </tr>\n    <tr>\n      <th>2</th>\n      <td>Norway</td>\n      <td>3</td>\n      <td>8</td>\n      <td>16.0</td>\n      <td>29.0</td>\n      <td>3.0</td>\n      <td>3.0</td>\n      <td>8.0</td>\n      <td>11.0</td>\n      <td>7.0</td>\n      <td>12.0</td>\n    </tr>\n    <tr>\n      <th>3</th>\n      <td>Iceland</td>\n      <td>4</td>\n      <td>9</td>\n      <td>3.0</td>\n      <td>3.0</td>\n      <td>1.0</td>\n      <td>7.0</td>\n      <td>45.0</td>\n      <td>3.0</td>\n      <td>15.0</td>\n      <td>13.0</td>\n    </tr>\n    <tr>\n      <th>4</th>\n      <td>Netherlands</td>\n      <td>5</td>\n      <td>1</td>\n      <td>12.0</td>\n      <td>25.0</td>\n      <td>15.0</td>\n      <td>19.0</td>\n      <td>12.0</td>\n      <td>7.0</td>\n      <td>12.0</td>\n      <td>18.0</td>\n    </tr>\n  </tbody>\n</table>\n</div>"
          },
          "metadata": {}
        }
      ]
    },
    {
      "metadata": {},
      "cell_type": "markdown",
      "source": "2.3 - De que se trata esse banco de dados? e que tipo de previsão pode ser feito com ele?\n"
    },
    {
      "metadata": {
        "trusted": true
      },
      "cell_type": "code",
      "source": "#Trata-se de uma pesquisa histórica sobre o estado de felicidade global que classifica 156 países pelo quão felizes seus cidadãos se percebem.\n#Pode-se prever o aumento da taxa de felicidade de acordo com o suporte social devido que um cidadão tem em sua vida.",
      "execution_count": 4,
      "outputs": []
    },
    {
      "metadata": {},
      "cell_type": "markdown",
      "source": "# Questão 3 - valor (0,5)\n"
    },
    {
      "metadata": {},
      "cell_type": "markdown",
      "source": "Utilizando as terminologias de Machine Learning(features e observações):\n\n"
    },
    {
      "metadata": {},
      "cell_type": "markdown",
      "source": "3.1 - Quantas \"features\" têm nessa base de dados?"
    },
    {
      "metadata": {
        "trusted": true
      },
      "cell_type": "code",
      "source": "shape = df.shape\nprint('Quantidade de Features: {}'.format(shape[1] - 1))",
      "execution_count": 5,
      "outputs": [
        {
          "output_type": "stream",
          "text": "Quantidade de Features: 10\n",
          "name": "stdout"
        }
      ]
    },
    {
      "metadata": {},
      "cell_type": "markdown",
      "source": "3.2 - Quantas observações têm nessa base de dados?\n"
    },
    {
      "metadata": {
        "trusted": true
      },
      "cell_type": "code",
      "source": "print('Quantidade de Observações: {}'.format(shape[0]))",
      "execution_count": 6,
      "outputs": [
        {
          "output_type": "stream",
          "text": "Quantidade de Observações: 156\n",
          "name": "stdout"
        }
      ]
    },
    {
      "metadata": {},
      "cell_type": "markdown",
      "source": "# Questão 4 - valor (1,5)\n"
    },
    {
      "metadata": {},
      "cell_type": "markdown",
      "source": "4.1 - Faça uma previsão, usando o algoritmo de LogisticRegression.\n"
    },
    {
      "metadata": {
        "trusted": true
      },
      "cell_type": "code",
      "source": "df.columns\nfrom sklearn.linear_model import LogisticRegression as lr\nfrom sklearn.model_selection import train_test_split\n\ndf=df.dropna(axis=0)\nx=df.drop(['Country (region)'], axis=1)\ny=df['Healthy life\\nexpectancy']\n\nlogreg = lr()\nlogreg.fit(x,y)\nlogreg.predict(x)\n\n\n#x = df[x_vars]\n#y = df[y_vars]\n\n#y_pred = logreg.predict(x)\n#len(y_pred)",
      "execution_count": 9,
      "outputs": [
        {
          "output_type": "execute_result",
          "execution_count": 9,
          "data": {
            "text/plain": "array([ 27.,  23.,  12.,  13.,  18.,   4.,  17.,  14.,   8.,  15.,  10.,\n        28.,  11.,  16.,  24.,  20.,  25.,  26.,  39.,  31.,  19.,  46.,\n         5.,  30.,  85.,   3.,  33.,  72.,  35.,   1.,  75.,   7.,  38.,\n        93.,  36.,  83.,  62.,  51.,  29.,  53.,  37.,  61.,   6.,  45.,\n        58.,  68.,   9.,  41.,  55.,  73.,   2.,  57.,  88.,  94.,  56.,\n        81.,  47.,  22., 114.,  89.,  99.,  48.,  86.,  96.,  44.,  92.,\n        32.,  80.,  50.,  69.,  59.,  76.,  21.,  97.,  52., 145.,  91.,\n        78.,  79.,  82.,  66.,  98.,  49., 104., 141.,  65., 121., 147.,\n        95., 133., 116., 108., 112., 123.,  40.,  71., 102., 109., 122.,\n       138., 136.,  64.,  77., 148.,  84., 130., 106., 120., 134.,  67.,\n        90., 107., 140., 142., 146.,  54., 110., 148.,  87., 115., 127.,\n       101., 131., 132., 105., 126., 117., 111., 149., 135., 129., 125.,\n       113., 119., 124., 103., 118., 139., 150., 143.])"
          },
          "metadata": {}
        }
      ]
    },
    {
      "metadata": {},
      "cell_type": "markdown",
      "source": "# Questão 5 - valor (2,0)\n"
    },
    {
      "metadata": {},
      "cell_type": "markdown",
      "source": "Usando o método de avaliação de acurácia (Treinar e testar na base de dados inteira/Train test entire model), Calcular a acurácia de cada um dos 3 métodos abaixo."
    },
    {
      "metadata": {},
      "cell_type": "markdown",
      "source": "4.1 - Acurácia usando o algoritmo de KNN (com 1 vizinho, k=1)\n"
    },
    {
      "metadata": {
        "trusted": true
      },
      "cell_type": "code",
      "source": "from sklearn import metrics\nfrom sklearn.neighbors import KNeighborsClassifier as knc\nknn = knc(n_neighbors=1)\nknn.fit(x,y)\ny_pred = knn.predict(x)\nprint(metrics.accuracy_score(y,y_pred))\n\nfrom sklearn.model_selection import train_test_split as ts\nx_train, x_test, y_train, y_test = ts(x, y, test_size=0.4, random_state=4)\nknn = knc(n_neighbors=1)\nknn.fit(x_train, y_train)\ny_pred = knn.predict(x_test)\nprint(metrics.accuracy_score(y_test, y_pred))",
      "execution_count": 10,
      "outputs": [
        {
          "output_type": "stream",
          "text": "1.0\n0.0\n",
          "name": "stdout"
        }
      ]
    },
    {
      "metadata": {},
      "cell_type": "markdown",
      "source": "4.2 - Acurácia usando o algoritmo de KNN (com 5 vizinho, k=5)\n"
    },
    {
      "metadata": {
        "trusted": true
      },
      "cell_type": "code",
      "source": "knn = knc(n_neighbors=5)\nknn.fit(x,y)\ny_pred = knn.predict(x)\nprint(metrics.accuracy_score(y,y_pred))\n\nknn = knc(n_neighbors=5)\nknn.fit(x_train, y_train)\ny_pred = knn.predict(x_test)\nprint(metrics.accuracy_score(y_test, y_pred))",
      "execution_count": 11,
      "outputs": [
        {
          "output_type": "stream",
          "text": "0.15714285714285714\n0.0\n",
          "name": "stdout"
        }
      ]
    },
    {
      "metadata": {},
      "cell_type": "markdown",
      "source": "4.3 - Acurácia usando o algoritmo de LogisticRegression\n"
    },
    {
      "metadata": {
        "trusted": true
      },
      "cell_type": "code",
      "source": "logreg = lr()\nlogreg.fit(x_train, y_train)\ny_pred = logreg.predict(x_test)\nprint(metrics.accuracy_score(y_test, y_pred))",
      "execution_count": 12,
      "outputs": [
        {
          "output_type": "stream",
          "text": "0.0\n",
          "name": "stdout"
        }
      ]
    },
    {
      "metadata": {},
      "cell_type": "markdown",
      "source": "4.4 - De acordo com seus resultados anteriores, qual dos 3 métodos é mais eficiente?\n"
    },
    {
      "metadata": {
        "trusted": false
      },
      "cell_type": "code",
      "source": "knn1",
      "execution_count": null,
      "outputs": []
    },
    {
      "metadata": {
        "trusted": false
      },
      "cell_type": "code",
      "source": "*** Envie o link do seu Github com essa resposta no Classroom\n",
      "execution_count": null,
      "outputs": []
    }
  ],
  "metadata": {
    "kernelspec": {
      "name": "python3",
      "display_name": "Python 3",
      "language": "python"
    },
    "language_info": {
      "mimetype": "text/x-python",
      "nbconvert_exporter": "python",
      "name": "python",
      "file_extension": ".py",
      "version": "3.5.4",
      "pygments_lexer": "ipython3",
      "codemirror_mode": {
        "version": 3,
        "name": "ipython"
      }
    }
  },
  "nbformat": 4,
  "nbformat_minor": 2
}